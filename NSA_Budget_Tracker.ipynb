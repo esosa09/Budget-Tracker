{
  "nbformat": 4,
  "nbformat_minor": 0,
  "metadata": {
    "colab": {
      "provenance": [],
      "authorship_tag": "ABX9TyOsYZpPhBdbVn3V+muZgtWN",
      "include_colab_link": true
    },
    "kernelspec": {
      "name": "python3",
      "display_name": "Python 3"
    },
    "language_info": {
      "name": "python"
    }
  },
  "cells": [
    {
      "cell_type": "markdown",
      "metadata": {
        "id": "view-in-github",
        "colab_type": "text"
      },
      "source": [
        "<a href=\"https://colab.research.google.com/github/esosa09/Budget-Tracker/blob/main/NSA_Budget_Tracker.ipynb\" target=\"_parent\"><img src=\"https://colab.research.google.com/assets/colab-badge.svg\" alt=\"Open In Colab\"/></a>"
      ]
    },
    {
      "cell_type": "code",
      "execution_count": 1,
      "metadata": {
        "colab": {
          "base_uri": "https://localhost:8080/"
        },
        "id": "CGK6oMmTsx67",
        "outputId": "ff42980a-b87d-4e00-a34e-11ca55967da7"
      },
      "outputs": [
        {
          "output_type": "stream",
          "name": "stdout",
          "text": [
            "Enter your total budget: $5190\n",
            "\n",
            "Enter your events and costs.\n",
            "Type 'done' as the event title when you are finished.\n",
            "\n",
            "Event title: NSA Field Day\n",
            "Cost for 'NSA Field Day': $200\n",
            "Event title: NSA Independence Day Party\n",
            "Cost for 'NSA Independence Day Party': $1000\n",
            "Event title: Jollof War\n",
            "Cost for 'Jollof War': $50\n",
            "Event title: Splash\n",
            "Cost for 'Splash': $80\n",
            "Event title: NSA Photoshoot\n",
            "Cost for 'NSA Photoshoot': $290\n",
            "Event title: done\n",
            "\n",
            "===== Event Expense Receipt =====\n",
            "NSA Field Day                  $200.00\n",
            "NSA Independence Day Party     $1,000.00\n",
            "Jollof War                     $50.00\n",
            "Splash                         $80.00\n",
            "NSA Photoshoot                 $290.00\n",
            "----------------------------------------\n",
            "Total Spent:              $1,620.00\n",
            "Budget Remaining:         $3,570.00\n",
            "\n",
            "✅ You are within budget!\n",
            "=================================\n"
          ]
        }
      ],
      "source": [
        "budget = float(input(\"Enter your total budget: $\"))\n",
        "\n",
        "\n",
        "expenses = []\n",
        "\n",
        "print(\"\\nEnter your events and costs.\")\n",
        "print(\"Type 'done' as the event title when you are finished.\\n\")\n",
        "\n",
        "\n",
        "while True:\n",
        "    title = input(\"Event title: \")\n",
        "    if title.lower() == \"done\":\n",
        "        break\n",
        "\n",
        "    cost = float(input(f\"Cost for '{title}': $\"))\n",
        "    expenses.append((title, cost))\n",
        "\n",
        "\n",
        "total_spent = sum(cost for _, cost in expenses)\n",
        "remaining = budget - total_spent\n",
        "\n",
        "\n",
        "print(\"\\n===== Event Expense Receipt =====\")\n",
        "for title, cost in expenses:\n",
        "    print(f\"{title:<30} ${cost:,.2f}\")\n",
        "print(\"-\" * 40)\n",
        "print(f\"Total Spent:              ${total_spent:,.2f}\")\n",
        "print(f\"Budget Remaining:         ${remaining:,.2f}\")\n",
        "\n",
        "\n",
        "if remaining < 0:\n",
        "    print(\"\\n⚠ WARNING: You are over budget by ${:,.2f}!\".format(abs(remaining)))\n",
        "else:\n",
        "    print(\"\\n✅ You are within budget!\")\n",
        "\n",
        "print(\"=================================\")"
      ]
    }
  ]
}